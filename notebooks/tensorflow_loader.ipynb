{
  "nbformat": 4,
  "nbformat_minor": 0,
  "metadata": {
    "colab": {
      "name": "cppe5-tensorflow-loader.ipynb",
      "provenance": [],
      "authorship_tag": "ABX9TyNmO/H6I88Z9oV5/xPUJerH",
      "include_colab_link": true
    },
    "kernelspec": {
      "name": "python3",
      "display_name": "Python 3"
    },
    "language_info": {
      "name": "python"
    }
  },
  "cells": [
    {
      "cell_type": "markdown",
      "metadata": {
        "id": "view-in-github",
        "colab_type": "text"
      },
      "source": [
        "<a href=\"https://colab.research.google.com/github/Rishit-dagli/CPPE-Dataset/blob/main/notebooks/tensorflow_loader.ipynb\" target=\"_parent\"><img src=\"https://colab.research.google.com/assets/colab-badge.svg\" alt=\"Open In Colab\"/></a>"
      ]
    },
    {
      "cell_type": "markdown",
      "source": [
        "# Load CPPE - 5 in TensorFlow\n",
        "\n",
        "In this ntoebook we will load the CPPE - 5 dataset through TF Record files in TensorFlow."
      ],
      "metadata": {
        "id": "M8_REIXKxVCR"
      }
    },
    {
      "cell_type": "markdown",
      "source": [
        "## Setup"
      ],
      "metadata": {
        "id": "iKCaOCO7xc3U"
      }
    },
    {
      "cell_type": "code",
      "execution_count": null,
      "metadata": {
        "id": "MemghYXXxRo-"
      },
      "outputs": [],
      "source": [
        "!pip install cppe5"
      ]
    },
    {
      "cell_type": "code",
      "source": [
        "import cppe5\n",
        "from cppe5.tensorflow import data_loader"
      ],
      "metadata": {
        "id": "iPl--4Zixf4i"
      },
      "execution_count": null,
      "outputs": []
    },
    {
      "cell_type": "markdown",
      "source": [
        "## Download the data\n"
      ],
      "metadata": {
        "id": "xwkY0pouxhcm"
      }
    },
    {
      "cell_type": "code",
      "source": [
        "cppe5.download_tfrecords()"
      ],
      "metadata": {
        "id": "5uligWnexjUH"
      },
      "execution_count": null,
      "outputs": []
    },
    {
      "cell_type": "code",
      "source": [
        "%cd .."
      ],
      "metadata": {
        "id": "pni0V7NVxkvf"
      },
      "execution_count": null,
      "outputs": []
    },
    {
      "cell_type": "markdown",
      "source": [
        "## Load the dataset"
      ],
      "metadata": {
        "id": "6UuQhj2bxmEN"
      }
    },
    {
      "cell_type": "code",
      "source": [
        "dataset = cppe5.tensorflow.data_loader()"
      ],
      "metadata": {
        "id": "7WlJanqIxoJG"
      },
      "execution_count": null,
      "outputs": []
    },
    {
      "cell_type": "markdown",
      "source": [
        "## See first example"
      ],
      "metadata": {
        "id": "OLzOKQQVxpru"
      }
    },
    {
      "cell_type": "code",
      "source": [
        "iter(dataset).next()"
      ],
      "metadata": {
        "id": "z1wodTn3xrkN"
      },
      "execution_count": null,
      "outputs": []
    }
  ]
}