{
  "nbformat": 4,
  "nbformat_minor": 0,
  "metadata": {
    "colab": {
      "name": "cppe5-pytorch-loader.ipynb",
      "provenance": [],
      "authorship_tag": "ABX9TyPQajZA988gBZ5qQGTqjR8Q",
      "include_colab_link": true
    },
    "kernelspec": {
      "name": "python3",
      "display_name": "Python 3"
    },
    "language_info": {
      "name": "python"
    }
  },
  "cells": [
    {
      "cell_type": "markdown",
      "metadata": {
        "id": "view-in-github",
        "colab_type": "text"
      },
      "source": [
        "<a href=\"https://colab.research.google.com/github/Rishit-dagli/CPPE-Dataset/blob/main/pytorch_loader.ipynb\" target=\"_parent\"><img src=\"https://colab.research.google.com/assets/colab-badge.svg\" alt=\"Open In Colab\"/></a>"
      ]
    },
    {
      "cell_type": "markdown",
      "source": [
        "# Load CPPE - 5 in PyTorch\n",
        "\n",
        "In  this ntoebook we will load the CPPE - 5 dataset in PyTorch and also see a quick example of fine-tuning the Faster RCNN model with `torchvision` on this dataset."
      ],
      "metadata": {
        "id": "VBygJOZJuJrQ"
      }
    },
    {
      "cell_type": "markdown",
      "source": [
        "## Setup"
      ],
      "metadata": {
        "id": "Rlg3TtBFuauD"
      }
    },
    {
      "cell_type": "code",
      "execution_count": null,
      "metadata": {
        "id": "zp772Mq5t2Cn"
      },
      "outputs": [],
      "source": [
        "!pip install cppe5"
      ]
    },
    {
      "cell_type": "code",
      "source": [
        "import cppe5\n",
        "from cppe5.torch import data_loader\n",
        "import torch\n",
        "import matplotlib.pyplot as plt\n",
        "import torchvision"
      ],
      "metadata": {
        "id": "UDwomlnDueYe"
      },
      "execution_count": null,
      "outputs": []
    },
    {
      "cell_type": "markdown",
      "source": [
        "## Download the data"
      ],
      "metadata": {
        "id": "uXgDNbaEufmv"
      }
    },
    {
      "cell_type": "code",
      "source": [
        "cppe5.download_data()"
      ],
      "metadata": {
        "id": "ttmbP3DSui2R"
      },
      "execution_count": null,
      "outputs": []
    },
    {
      "cell_type": "code",
      "source": [
        "%cd .."
      ],
      "metadata": {
        "id": "LueGtSEGumCf"
      },
      "execution_count": null,
      "outputs": []
    },
    {
      "cell_type": "markdown",
      "source": [
        "## Load the dataset"
      ],
      "metadata": {
        "id": "0hIbhABGukcv"
      }
    },
    {
      "cell_type": "code",
      "source": [
        "data_loader = cppe5.torch.data_loader()"
      ],
      "metadata": {
        "id": "cOb1t5ZRupV_"
      },
      "execution_count": null,
      "outputs": []
    },
    {
      "cell_type": "markdown",
      "source": [
        "### See the first image"
      ],
      "metadata": {
        "id": "ys7nyq8Bury3"
      }
    },
    {
      "cell_type": "code",
      "source": [
        "img, annotation=next(iter(data_loader))\n",
        "plt.imshow(img[0].permute(1, 2, 0))"
      ],
      "metadata": {
        "id": "BVZfz-bouvEi"
      },
      "execution_count": null,
      "outputs": []
    },
    {
      "cell_type": "markdown",
      "source": [
        "### Fetch all images and annotations"
      ],
      "metadata": {
        "id": "4LHXg0WEu29Y"
      }
    },
    {
      "cell_type": "code",
      "source": [
        "# select device (whether GPU or CPU)\n",
        "device = torch.device('cuda') if torch.cuda.is_available() else torch.device('cpu')\n",
        "\n",
        "# DataLoader is iterable over Dataset\n",
        "for imgs, annotations in data_loader:\n",
        "    imgs = list(img.to(device) for img in imgs)\n",
        "    annotations = [{k: v.to(device) for k, v in t.items()} for t in annotations]"
      ],
      "metadata": {
        "id": "biDrotRfu6G4"
      },
      "execution_count": null,
      "outputs": []
    },
    {
      "cell_type": "markdown",
      "source": [
        "## Fine-tune Faster RCNN"
      ],
      "metadata": {
        "id": "ByFTJ6ErvNsP"
      }
    },
    {
      "cell_type": "code",
      "source": [
        "def get_model_instance_segmentation(num_classes):\n",
        "    # load an instance segmentation model pre-trained pre-trained on COCO\n",
        "    model = torchvision.models.detection.fasterrcnn_resnet50_fpn(pretrained=False)\n",
        "    # get number of input features for the classifier\n",
        "    in_features = model.roi_heads.box_predictor.cls_score.in_features\n",
        "    # replace the pre-trained head with a new one\n",
        "    model.roi_heads.box_predictor = torchvision.models.detection.faster_rcnn.FastRCNNPredictor(in_features, num_classes)\n",
        "\n",
        "    return model\n",
        "    \n",
        "\n",
        "# 2 classes; Only target class or background\n",
        "num_classes = 5\n",
        "num_epochs = 10\n",
        "model = get_model_instance_segmentation(num_classes)\n",
        "\n",
        "# move model to the right device\n",
        "model.to(device)\n",
        "    \n",
        "# parameters\n",
        "params = [p for p in model.parameters() if p.requires_grad]\n",
        "optimizer = torch.optim.SGD(params, lr=0.005, momentum=0.9, weight_decay=0.0005)\n",
        "\n",
        "len_dataloader = len(data_loader)\n",
        "\n",
        "for epoch in range(num_epochs):\n",
        "    model.train()\n",
        "    i = 0    \n",
        "    for imgs, annotations in data_loader:\n",
        "        i += 1\n",
        "        imgs = list(img.to(device) for img in imgs)\n",
        "        annotations = [{k: v.to(device) for k, v in t.items()} for t in annotations]\n",
        "        loss_dict = model(imgs, annotations)\n",
        "        losses = sum(loss for loss in loss_dict.values())\n",
        "\n",
        "        optimizer.zero_grad()\n",
        "        losses.backward()\n",
        "        optimizer.step()\n",
        "\n",
        "        print(f'Iteration: {i}/{len_dataloader}, Loss: {losses}')"
      ],
      "metadata": {
        "id": "RwjOReOpvPjQ"
      },
      "execution_count": null,
      "outputs": []
    }
  ]
}